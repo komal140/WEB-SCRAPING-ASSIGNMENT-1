{
  "nbformat": 4,
  "nbformat_minor": 0,
  "metadata": {
    "colab": {
      "name": "WEB SCRAPING – ASSIGNMENT 1.ipynb",
      "provenance": []
    },
    "kernelspec": {
      "name": "python3",
      "display_name": "Python 3"
    }
  },
  "cells": [
    {
      "cell_type": "code",
      "metadata": {
        "colab": {
          "base_uri": "https://localhost:8080/"
        },
        "id": "BT6tAE0g4aBg",
        "outputId": "51d32d83-9166-4fa5-ccc1-8a5d92dc4e99"
      },
      "source": [
        "!pip install beautifulsoup4\r\n",
        "from bs4 import BeautifulSoup as bs"
      ],
      "execution_count": 1,
      "outputs": [
        {
          "output_type": "stream",
          "text": [
            "Requirement already satisfied: beautifulsoup4 in /usr/local/lib/python3.6/dist-packages (4.6.3)\n"
          ],
          "name": "stdout"
        }
      ]
    },
    {
      "cell_type": "code",
      "metadata": {
        "colab": {
          "base_uri": "https://localhost:8080/"
        },
        "id": "jHmJ2WpF4cb_",
        "outputId": "958d46e8-871b-4f01-9f4a-c61f65f8c0a5"
      },
      "source": [
        "import  requests\r\n",
        "from  bs4 import BeautifulSoup\r\n",
        "\r\n",
        "url = requests.get('https://en.wikipedia.org/wiki/Main_Page')\r\n",
        "soup = BeautifulSoup(url.text, 'html.parser')\r\n",
        "story = soup.find_all(['h1', 'h2','h3'])\r\n",
        "for i in story:\r\n",
        "    print(i)"
      ],
      "execution_count": 2,
      "outputs": [
        {
          "output_type": "stream",
          "text": [
            "<h1 class=\"firstHeading\" id=\"firstHeading\" lang=\"en\">Main Page</h1>\n",
            "<h2 class=\"mp-h2\" id=\"mp-tfa-h2\"><span id=\"From_today.27s_featured_article\"></span><span class=\"mw-headline\" id=\"From_today's_featured_article\">From today's featured article</span></h2>\n",
            "<h2 class=\"mp-h2\" id=\"mp-dyk-h2\"><span class=\"mw-headline\" id=\"Did_you_know_...\">Did you know ...</span></h2>\n",
            "<h2 class=\"mp-h2\" id=\"mp-itn-h2\"><span class=\"mw-headline\" id=\"In_the_news\">In the news</span></h2>\n",
            "<h2 class=\"mp-h2\" id=\"mp-otd-h2\"><span class=\"mw-headline\" id=\"On_this_day\">On this day</span></h2>\n",
            "<h2 class=\"mp-h2\" id=\"mp-tfl-h2\"><span id=\"From_today.27s_featured_list\"></span><span class=\"mw-headline\" id=\"From_today's_featured_list\">From today's featured list</span></h2>\n",
            "<h2 class=\"mp-h2\" id=\"mp-tfp-h2\"><span id=\"Today.27s_featured_picture\"></span><span class=\"mw-headline\" id=\"Today's_featured_picture\">Today's featured picture</span></h2>\n",
            "<h2 class=\"mp-h2\" id=\"mp-other\"><span class=\"mw-headline\" id=\"Other_areas_of_Wikipedia\">Other areas of Wikipedia</span></h2>\n",
            "<h2 class=\"mp-h2\" id=\"mp-sister\"><span id=\"Wikipedia.27s_sister_projects\"></span><span class=\"mw-headline\" id=\"Wikipedia's_sister_projects\">Wikipedia's sister projects</span></h2>\n",
            "<h2 class=\"mp-h2\" id=\"mp-lang\"><span class=\"mw-headline\" id=\"Wikipedia_languages\">Wikipedia languages</span></h2>\n",
            "<h2>Navigation menu</h2>\n",
            "<h3 id=\"p-personal-label\">\n",
            "<span>Personal tools</span>\n",
            "</h3>\n",
            "<h3 id=\"p-namespaces-label\">\n",
            "<span>Namespaces</span>\n",
            "</h3>\n",
            "<h3 id=\"p-variants-label\">\n",
            "<span>Variants</span>\n",
            "</h3>\n",
            "<h3 id=\"p-views-label\">\n",
            "<span>Views</span>\n",
            "</h3>\n",
            "<h3 id=\"p-cactions-label\">\n",
            "<span>More</span>\n",
            "</h3>\n",
            "<h3>\n",
            "<label for=\"searchInput\">Search</label>\n",
            "</h3>\n",
            "<h3 id=\"p-navigation-label\">\n",
            "<span>Navigation</span>\n",
            "</h3>\n",
            "<h3 id=\"p-interaction-label\">\n",
            "<span>Contribute</span>\n",
            "</h3>\n",
            "<h3 id=\"p-tb-label\">\n",
            "<span>Tools</span>\n",
            "</h3>\n",
            "<h3 id=\"p-coll-print_export-label\">\n",
            "<span>Print/export</span>\n",
            "</h3>\n",
            "<h3 id=\"p-wikibase-otherprojects-label\">\n",
            "<span>In other projects</span>\n",
            "</h3>\n",
            "<h3 id=\"p-lang-label\">\n",
            "<span>Languages</span>\n",
            "</h3>\n"
          ],
          "name": "stdout"
        }
      ]
    },
    {
      "cell_type": "code",
      "metadata": {
        "id": "MQg76BBA4d7h"
      },
      "source": [
        "#IMDB TOP 100 Movies\r\n",
        "# Creating the lists we want to write into\r\n",
        "titles = []\r\n",
        "years = []\r\n",
        "imdb_ratings = []"
      ],
      "execution_count": 3,
      "outputs": []
    },
    {
      "cell_type": "code",
      "metadata": {
        "id": "aX_DwMVK4f8O"
      },
      "source": [
        "# Getting English translated titles from the movies\r\n",
        "headers = {'Accept-Language': 'en-US, en;q=0.5'}"
      ],
      "execution_count": 4,
      "outputs": []
    },
    {
      "cell_type": "code",
      "metadata": {
        "colab": {
          "base_uri": "https://localhost:8080/"
        },
        "id": "AqmE4o254iRR",
        "outputId": "a525b8ee-40ec-43f3-9475-17760f504328"
      },
      "source": [
        "import numpy as np\r\n",
        " \r\n",
        "pages = np.arange(1, 100, 20)\r\n",
        "pages"
      ],
      "execution_count": 5,
      "outputs": [
        {
          "output_type": "execute_result",
          "data": {
            "text/plain": [
              "array([ 1, 21, 41, 61, 81])"
            ]
          },
          "metadata": {
            "tags": []
          },
          "execution_count": 5
        }
      ]
    },
    {
      "cell_type": "code",
      "metadata": {
        "id": "0z-D9szd4j7b"
      },
      "source": [
        "# Storing each of the urls of 50 movies \r\n",
        "for page in pages:\r\n",
        "    # Getting the contents from the each url\r\n",
        "    page = requests.get('https://www.imdb.com/search/title/?groups=top_100&start=' + str(page) + '&ref_=adv_nxt', headers=headers)\r\n",
        "    soup = BeautifulSoup(page.text, 'html.parser')\r\n",
        " \r\n",
        "# Aiming the part of the html we want to get the information from\r\n",
        "    movie_div = soup.find_all('div', class_='lister-item mode-advanced')"
      ],
      "execution_count": 6,
      "outputs": []
    },
    {
      "cell_type": "code",
      "metadata": {
        "id": "l5UoI9Fp4l_x"
      },
      "source": [
        "for container in movie_div:\r\n",
        "# Scraping the movie's name\r\n",
        "        name = container.h3.a.text\r\n",
        "        titles.append(name)\r\n",
        "\r\n",
        "# Scraping the movie's year\r\n",
        "        year = container.h3.find('span', class_='lister-item-year').text\r\n",
        "        years.append(year)\r\n",
        " \r\n",
        "# Scraping the rating\r\n",
        "        imdb = float(container.strong.text)\r\n",
        "        imdb_ratings.append(imdb)"
      ],
      "execution_count": 7,
      "outputs": []
    },
    {
      "cell_type": "code",
      "metadata": {
        "colab": {
          "base_uri": "https://localhost:8080/",
          "height": 204
        },
        "id": "WkqAWXMq5Bmx",
        "outputId": "17aa57e3-2b9f-4f0d-d281-9812a3761b36"
      },
      "source": [
        "import pandas as pd\r\n",
        "movies = pd.DataFrame({'movie':titles,\r\n",
        "                       'year':years,\r\n",
        "                       'imdb_rating':imdb_ratings,})\r\n",
        " \r\n",
        "movies.head()"
      ],
      "execution_count": 15,
      "outputs": [
        {
          "output_type": "execute_result",
          "data": {
            "text/html": [
              "<div>\n",
              "<style scoped>\n",
              "    .dataframe tbody tr th:only-of-type {\n",
              "        vertical-align: middle;\n",
              "    }\n",
              "\n",
              "    .dataframe tbody tr th {\n",
              "        vertical-align: top;\n",
              "    }\n",
              "\n",
              "    .dataframe thead th {\n",
              "        text-align: right;\n",
              "    }\n",
              "</style>\n",
              "<table border=\"1\" class=\"dataframe\">\n",
              "  <thead>\n",
              "    <tr style=\"text-align: right;\">\n",
              "      <th></th>\n",
              "      <th>movie</th>\n",
              "      <th>year</th>\n",
              "      <th>imdb_rating</th>\n",
              "    </tr>\n",
              "  </thead>\n",
              "  <tbody>\n",
              "    <tr>\n",
              "      <th>0</th>\n",
              "      <td>Dr. Strangelove or: How I Learned to Stop Worr...</td>\n",
              "      <td>(1964)</td>\n",
              "      <td>8.4</td>\n",
              "    </tr>\n",
              "    <tr>\n",
              "      <th>1</th>\n",
              "      <td>Rear Window</td>\n",
              "      <td>(1954)</td>\n",
              "      <td>8.4</td>\n",
              "    </tr>\n",
              "    <tr>\n",
              "      <th>2</th>\n",
              "      <td>3 Idiots</td>\n",
              "      <td>(2009)</td>\n",
              "      <td>8.4</td>\n",
              "    </tr>\n",
              "    <tr>\n",
              "      <th>3</th>\n",
              "      <td>Amadeus</td>\n",
              "      <td>(1984)</td>\n",
              "      <td>8.3</td>\n",
              "    </tr>\n",
              "    <tr>\n",
              "      <th>4</th>\n",
              "      <td>Grave of the Fireflies</td>\n",
              "      <td>(1988)</td>\n",
              "      <td>8.5</td>\n",
              "    </tr>\n",
              "  </tbody>\n",
              "</table>\n",
              "</div>"
            ],
            "text/plain": [
              "                                               movie    year  imdb_rating\n",
              "0  Dr. Strangelove or: How I Learned to Stop Worr...  (1964)          8.4\n",
              "1                                        Rear Window  (1954)          8.4\n",
              "2                                           3 Idiots  (2009)          8.4\n",
              "3                                            Amadeus  (1984)          8.3\n",
              "4                             Grave of the Fireflies  (1988)          8.5"
            ]
          },
          "metadata": {
            "tags": []
          },
          "execution_count": 15
        }
      ]
    },
    {
      "cell_type": "code",
      "metadata": {
        "id": "ulDZcWqN5glG"
      },
      "source": [
        "movies.to_csv('movies.csv')"
      ],
      "execution_count": 16,
      "outputs": []
    },
    {
      "cell_type": "code",
      "metadata": {
        "id": "MSeeyf935ldE"
      },
      "source": [
        "#IMDB TOP 100 Indian Movies\r\n",
        "# Creating the lists we want to write into\r\n",
        "titles = []\r\n",
        "years = []\r\n",
        "imdb_ratings = []"
      ],
      "execution_count": 17,
      "outputs": []
    },
    {
      "cell_type": "code",
      "metadata": {
        "id": "QPS9Lspb5qvm"
      },
      "source": [
        "# Storing each of the urls of 50 movies \r\n",
        "for page in pages:\r\n",
        "    # Getting the contents from the each url\r\n",
        "    page = requests.get('https://www.imdb.com/list/ls056092300/' + str(page) + '&ref_=adv_nxt', headers=headers)\r\n",
        "    soup = BeautifulSoup(page.text, 'html.parser')\r\n",
        " \r\n",
        "# Aiming the part of the html we want to get the information from\r\n",
        "    movie_div = soup.find_all('div', class_='article')"
      ],
      "execution_count": 18,
      "outputs": []
    },
    {
      "cell_type": "code",
      "metadata": {
        "id": "8nClXlOB5sNP"
      },
      "source": [
        "for container in movie_div:\r\n",
        "# Scraping the movie's name\r\n",
        "        name = container.h3.a.text\r\n",
        "        titles.append(name)\r\n",
        "\r\n",
        "# Scraping the movie's year\r\n",
        "        year = container.h3.find('span', class_='secondaryInfo').text\r\n",
        "        years.append(year)\r\n",
        " \r\n",
        "# Scraping the rating\r\n",
        "        imdb = float(container.strong.text)\r\n",
        "        imdb_ratings.append(imdb)"
      ],
      "execution_count": 19,
      "outputs": []
    },
    {
      "cell_type": "code",
      "metadata": {
        "colab": {
          "base_uri": "https://localhost:8080/",
          "height": 49
        },
        "id": "Fv5ED1JP5uWH",
        "outputId": "62650ff1-4dfb-4a33-acf8-2760a623aa42"
      },
      "source": [
        "movies = pd.DataFrame({'movie':titles,\r\n",
        "                       'year':years,\r\n",
        "                       'imdb_rating':imdb_ratings,})\r\n",
        "\r\n",
        "movies.head()"
      ],
      "execution_count": 20,
      "outputs": [
        {
          "output_type": "execute_result",
          "data": {
            "text/html": [
              "<div>\n",
              "<style scoped>\n",
              "    .dataframe tbody tr th:only-of-type {\n",
              "        vertical-align: middle;\n",
              "    }\n",
              "\n",
              "    .dataframe tbody tr th {\n",
              "        vertical-align: top;\n",
              "    }\n",
              "\n",
              "    .dataframe thead th {\n",
              "        text-align: right;\n",
              "    }\n",
              "</style>\n",
              "<table border=\"1\" class=\"dataframe\">\n",
              "  <thead>\n",
              "    <tr style=\"text-align: right;\">\n",
              "      <th></th>\n",
              "      <th>movie</th>\n",
              "      <th>year</th>\n",
              "      <th>imdb_rating</th>\n",
              "    </tr>\n",
              "  </thead>\n",
              "  <tbody>\n",
              "  </tbody>\n",
              "</table>\n",
              "</div>"
            ],
            "text/plain": [
              "Empty DataFrame\n",
              "Columns: [movie, year, imdb_rating]\n",
              "Index: []"
            ]
          },
          "metadata": {
            "tags": []
          },
          "execution_count": 20
        }
      ]
    },
    {
      "cell_type": "code",
      "metadata": {
        "id": "zOVIFsCa5wBw"
      },
      "source": [
        "#scrap book\r\n",
        "# Creating the lists we want to write into\r\n",
        "name = []\r\n",
        "Authorname = []\r\n",
        "genre = []\r\n",
        "bookreview = []"
      ],
      "execution_count": 21,
      "outputs": []
    },
    {
      "cell_type": "code",
      "metadata": {
        "id": "x61Ptikj5x0C"
      },
      "source": [
        "# Storing each of the urls of 50 BOOKS \r\n",
        "for page in pages:\r\n",
        "    # Getting the contents from the each url\r\n",
        "    page = requests.get('https://bookpage.com/' + str(page) + '&ref_=adv_nxt', headers=headers)\r\n",
        "    soup = BeautifulSoup(page.text, 'html.parser')\r\n",
        " \r\n",
        "# Aiming the part of the html we want to get the information from\r\n",
        "    book_div = soup.find_all('div', class_='lister-item mode-advanced')"
      ],
      "execution_count": 22,
      "outputs": []
    },
    {
      "cell_type": "code",
      "metadata": {
        "id": "VAKkn87q5z2k"
      },
      "source": [
        "for container in name:\r\n",
        "# Scraping the book name\r\n",
        "        name = container.h3.a.text\r\n",
        "        titles.append(name)\r\n",
        "\r\n",
        "# Scraping the author name\r\n",
        "        author = container.h3.find('span', class_='lister-item-year').text\r\n",
        "        author.append(year)\r\n",
        " \r\n",
        "# Scraping the genre\r\n",
        "        genre = float(container.strong.text)\r\n",
        "        genre.append(genre)\r\n",
        "\r\n",
        "#Scraping the book Review\r\n",
        "        book = float(container.strong.text)\r\n",
        "        book.append(genre)"
      ],
      "execution_count": 23,
      "outputs": []
    },
    {
      "cell_type": "code",
      "metadata": {
        "colab": {
          "base_uri": "https://localhost:8080/",
          "height": 49
        },
        "id": "3HqWNlxR51yJ",
        "outputId": "8dd59343-928b-4f08-acd4-59a8cb153ebd"
      },
      "source": [
        "book = pd.DataFrame({'book':name,\r\n",
        "                       'author':name,\r\n",
        "                       'genre':genre,\r\n",
        "                      'bookreview':bookreview,})\r\n",
        "\r\n",
        "book.head()"
      ],
      "execution_count": 24,
      "outputs": [
        {
          "output_type": "execute_result",
          "data": {
            "text/html": [
              "<div>\n",
              "<style scoped>\n",
              "    .dataframe tbody tr th:only-of-type {\n",
              "        vertical-align: middle;\n",
              "    }\n",
              "\n",
              "    .dataframe tbody tr th {\n",
              "        vertical-align: top;\n",
              "    }\n",
              "\n",
              "    .dataframe thead th {\n",
              "        text-align: right;\n",
              "    }\n",
              "</style>\n",
              "<table border=\"1\" class=\"dataframe\">\n",
              "  <thead>\n",
              "    <tr style=\"text-align: right;\">\n",
              "      <th></th>\n",
              "      <th>book</th>\n",
              "      <th>author</th>\n",
              "      <th>genre</th>\n",
              "      <th>bookreview</th>\n",
              "    </tr>\n",
              "  </thead>\n",
              "  <tbody>\n",
              "  </tbody>\n",
              "</table>\n",
              "</div>"
            ],
            "text/plain": [
              "Empty DataFrame\n",
              "Columns: [book, author, genre, bookreview]\n",
              "Index: []"
            ]
          },
          "metadata": {
            "tags": []
          },
          "execution_count": 24
        }
      ]
    },
    {
      "cell_type": "code",
      "metadata": {
        "id": "5mqEEkRZ53PB"
      },
      "source": [
        "#Top 10 ODI Team\r\n",
        "# Creating the lists we want to write into\r\n",
        "match= []\r\n",
        "point = []\r\n",
        "rating = []"
      ],
      "execution_count": 25,
      "outputs": []
    },
    {
      "cell_type": "code",
      "metadata": {
        "id": "hKOuskYp54x0"
      },
      "source": [
        "# Top 10 ODI teams in men’s cricket along with the records for matches, points and rating\r\n",
        "for page in pages:\r\n",
        "    # Getting the contents from the each url\r\n",
        "    page = requests.get('https://www.icc-cricket.com/' + str(page) + '&ref_=adv_nxt', headers=headers)\r\n",
        "    soup = BeautifulSoup(page.text, 'html.parser')\r\n",
        " \r\n",
        "# Aiming the part of the html we want to get the information from\r\n",
        "    ODI_div = soup.find_all('div', class_='lister-item mode-advanced')"
      ],
      "execution_count": 26,
      "outputs": []
    },
    {
      "cell_type": "code",
      "metadata": {
        "id": "PY_gBgSD56QZ"
      },
      "source": [
        "for container in match:\r\n",
        "# TOP 10 ODI match\r\n",
        "        match = container.h3.a.text\r\n",
        "        match.append(match)\r\n",
        "\r\n",
        "# TOP 10 ODI rating\r\n",
        "        rating = container.h3.find('span', class_='lister-item-year').text\r\n",
        "        rating.append(rating)\r\n",
        " \r\n",
        "#TOP 10 ODI point\r\n",
        "        point = float(container.strong.text)\r\n",
        "        point.append(point)"
      ],
      "execution_count": 27,
      "outputs": []
    },
    {
      "cell_type": "code",
      "metadata": {
        "colab": {
          "base_uri": "https://localhost:8080/",
          "height": 49
        },
        "id": "xQCcqkfZ58-b",
        "outputId": "cc081597-7528-4528-b753-4fe459a4ecfb"
      },
      "source": [
        "ODI = pd.DataFrame({'match':match,\r\n",
        "                       'rating':rating,\r\n",
        "                       'point':point,})\r\n",
        "ODI.head()"
      ],
      "execution_count": 28,
      "outputs": [
        {
          "output_type": "execute_result",
          "data": {
            "text/html": [
              "<div>\n",
              "<style scoped>\n",
              "    .dataframe tbody tr th:only-of-type {\n",
              "        vertical-align: middle;\n",
              "    }\n",
              "\n",
              "    .dataframe tbody tr th {\n",
              "        vertical-align: top;\n",
              "    }\n",
              "\n",
              "    .dataframe thead th {\n",
              "        text-align: right;\n",
              "    }\n",
              "</style>\n",
              "<table border=\"1\" class=\"dataframe\">\n",
              "  <thead>\n",
              "    <tr style=\"text-align: right;\">\n",
              "      <th></th>\n",
              "      <th>match</th>\n",
              "      <th>rating</th>\n",
              "      <th>point</th>\n",
              "    </tr>\n",
              "  </thead>\n",
              "  <tbody>\n",
              "  </tbody>\n",
              "</table>\n",
              "</div>"
            ],
            "text/plain": [
              "Empty DataFrame\n",
              "Columns: [match, rating, point]\n",
              "Index: []"
            ]
          },
          "metadata": {
            "tags": []
          },
          "execution_count": 28
        }
      ]
    },
    {
      "cell_type": "code",
      "metadata": {
        "id": "lPfMR4595-XY"
      },
      "source": [
        "#Top 10 ODI Batsmen\r\n",
        "# Creating the lists we want to write into\r\n",
        "batsmen= []\r\n",
        "team = []\r\n",
        "rating = []"
      ],
      "execution_count": 33,
      "outputs": []
    },
    {
      "cell_type": "code",
      "metadata": {
        "id": "OIGdVW6E6ASp"
      },
      "source": [
        "# Top 10 ODI batsmen in men’s cricket along with the records of teams and rating\r\n",
        "for page in pages:\r\n",
        "    # Getting the contents from the each url\r\n",
        "    page = requests.get('https://www.icc-cricket.com/' + str(page) + '&ref_=adv_nxt', headers=headers)\r\n",
        "    soup = BeautifulSoup(page.text, 'html.parser')\r\n",
        " \r\n",
        "# Aiming the part of the html we want to get the information from\r\n",
        "    ODI_div = soup.find_all('div', class_='lister-item mode-advanced')"
      ],
      "execution_count": 34,
      "outputs": []
    },
    {
      "cell_type": "code",
      "metadata": {
        "id": "bSqsVfbH6PUn"
      },
      "source": [
        "for container in batsmen:\r\n",
        "# TOP 10 ODI batsmen\r\n",
        "        batsmen = container.h3.a.text\r\n",
        "        batsmen.append(batsmen)\r\n",
        "\r\n",
        "# TOP 10 ODI team\r\n",
        "        team = container.h3.find('span', class_='lister-item-year').text\r\n",
        "        team.append(team)\r\n",
        " \r\n",
        "#TOP 10 ODI rating\r\n",
        "        rating= float(container.strong.text)\r\n",
        "        rating.append(rating)"
      ],
      "execution_count": 35,
      "outputs": []
    },
    {
      "cell_type": "code",
      "metadata": {
        "colab": {
          "base_uri": "https://localhost:8080/",
          "height": 49
        },
        "id": "VKC2MkY_6pP6",
        "outputId": "1868dd12-e78c-4ec5-b7c4-a078c7806b57"
      },
      "source": [
        "ODI = pd.DataFrame({'batsmen':match,\r\n",
        "                       'team':rating,\r\n",
        "                       'rating':point,})\r\n",
        "ODI.head()"
      ],
      "execution_count": 36,
      "outputs": [
        {
          "output_type": "execute_result",
          "data": {
            "text/html": [
              "<div>\n",
              "<style scoped>\n",
              "    .dataframe tbody tr th:only-of-type {\n",
              "        vertical-align: middle;\n",
              "    }\n",
              "\n",
              "    .dataframe tbody tr th {\n",
              "        vertical-align: top;\n",
              "    }\n",
              "\n",
              "    .dataframe thead th {\n",
              "        text-align: right;\n",
              "    }\n",
              "</style>\n",
              "<table border=\"1\" class=\"dataframe\">\n",
              "  <thead>\n",
              "    <tr style=\"text-align: right;\">\n",
              "      <th></th>\n",
              "      <th>batsmen</th>\n",
              "      <th>team</th>\n",
              "      <th>rating</th>\n",
              "    </tr>\n",
              "  </thead>\n",
              "  <tbody>\n",
              "  </tbody>\n",
              "</table>\n",
              "</div>"
            ],
            "text/plain": [
              "Empty DataFrame\n",
              "Columns: [batsmen, team, rating]\n",
              "Index: []"
            ]
          },
          "metadata": {
            "tags": []
          },
          "execution_count": 36
        }
      ]
    },
    {
      "cell_type": "code",
      "metadata": {
        "id": "EPAnbnbM7QZc"
      },
      "source": [
        "#Top 10 ODI bowler\r\n",
        "# Creating the lists we want to write into\r\n",
        "bowler= []\r\n",
        "team = []\r\n",
        "rating = []"
      ],
      "execution_count": 37,
      "outputs": []
    },
    {
      "cell_type": "code",
      "metadata": {
        "id": "u7zRpgnW7cRj"
      },
      "source": [
        "# Top 10 ODI bowler in men’s cricket along with the records of teams and rating\r\n",
        "for page in pages:\r\n",
        "    # Getting the contents from the each url\r\n",
        "    page = requests.get('https://www.icc-cricket.com/' + str(page) + '&ref_=adv_nxt', headers=headers)\r\n",
        "    soup = BeautifulSoup(page.text, 'html.parser')\r\n",
        " \r\n",
        "# Aiming the part of the html we want to get the information from\r\n",
        "    ODI_div = soup.find_all('div', class_='lister-item mode-advanced')"
      ],
      "execution_count": 38,
      "outputs": []
    },
    {
      "cell_type": "code",
      "metadata": {
        "id": "FYEeYJyP7f0y"
      },
      "source": [
        "for container in bowler:\r\n",
        "# TOP 10 ODI bolwer\r\n",
        "        bowler = container.h3.a.text\r\n",
        "        bowler.append(bowler)\r\n",
        "\r\n",
        "# TOP 10 ODI team\r\n",
        "        team = container.h3.find('span', class_='lister-item-year').text\r\n",
        "        team.append(team)\r\n",
        " \r\n",
        "#TOP 10 ODI rating\r\n",
        "        rating= float(container.strong.text)\r\n",
        "        rating.append(rating)"
      ],
      "execution_count": 39,
      "outputs": []
    },
    {
      "cell_type": "code",
      "metadata": {
        "colab": {
          "base_uri": "https://localhost:8080/",
          "height": 49
        },
        "id": "7V8ywfL47nMn",
        "outputId": "9c3c2ecf-655f-4a40-de7a-62f4fcb52c8d"
      },
      "source": [
        "ODI = pd.DataFrame({'bowler':match,\r\n",
        "                       'team':rating,\r\n",
        "                       'rating':point,})\r\n",
        "ODI.head()"
      ],
      "execution_count": 40,
      "outputs": [
        {
          "output_type": "execute_result",
          "data": {
            "text/html": [
              "<div>\n",
              "<style scoped>\n",
              "    .dataframe tbody tr th:only-of-type {\n",
              "        vertical-align: middle;\n",
              "    }\n",
              "\n",
              "    .dataframe tbody tr th {\n",
              "        vertical-align: top;\n",
              "    }\n",
              "\n",
              "    .dataframe thead th {\n",
              "        text-align: right;\n",
              "    }\n",
              "</style>\n",
              "<table border=\"1\" class=\"dataframe\">\n",
              "  <thead>\n",
              "    <tr style=\"text-align: right;\">\n",
              "      <th></th>\n",
              "      <th>bowler</th>\n",
              "      <th>team</th>\n",
              "      <th>rating</th>\n",
              "    </tr>\n",
              "  </thead>\n",
              "  <tbody>\n",
              "  </tbody>\n",
              "</table>\n",
              "</div>"
            ],
            "text/plain": [
              "Empty DataFrame\n",
              "Columns: [bowler, team, rating]\n",
              "Index: []"
            ]
          },
          "metadata": {
            "tags": []
          },
          "execution_count": 40
        }
      ]
    },
    {
      "cell_type": "code",
      "metadata": {
        "id": "8T4mU6uI7uwe"
      },
      "source": [
        "#Top 10 ODI women Team\r\n",
        "# Creating the lists we want to write into\r\n",
        "match= []\r\n",
        "point = []\r\n",
        "rating = []"
      ],
      "execution_count": 41,
      "outputs": []
    },
    {
      "cell_type": "code",
      "metadata": {
        "id": "iMQwYqJP8MJe"
      },
      "source": [
        "# Top 10 ODI women teams in men’s cricket along with the records for matches, points and rating\r\n",
        "for page in pages:\r\n",
        "    # Getting the contents from the each url\r\n",
        "    page = requests.get('https://www.icc-cricket.com/' + str(page) + '&ref_=adv_nxt', headers=headers)\r\n",
        "    soup = BeautifulSoup(page.text, 'html.parser')\r\n",
        " \r\n",
        "# Aiming the part of the html we want to get the information from\r\n",
        "    ODI_div = soup.find_all('div', class_='lister-item mode-advanced')"
      ],
      "execution_count": 42,
      "outputs": []
    },
    {
      "cell_type": "code",
      "metadata": {
        "id": "g-KsWR4z8Rc5"
      },
      "source": [
        "for container in match:\r\n",
        "# TOP 10 ODI match\r\n",
        "        match = container.h3.a.text\r\n",
        "        match.append(match)\r\n",
        "\r\n",
        "# TOP 10 ODI rating\r\n",
        "        rating = container.h3.find('span', class_='lister-item-year').text\r\n",
        "        rating.append(rating)\r\n",
        " \r\n",
        "#TOP 10 ODI point\r\n",
        "        point = float(container.strong.text)\r\n",
        "        point.append(point)"
      ],
      "execution_count": 43,
      "outputs": []
    },
    {
      "cell_type": "code",
      "metadata": {
        "colab": {
          "base_uri": "https://localhost:8080/",
          "height": 49
        },
        "id": "sJc5vAdY8WoA",
        "outputId": "a1dfd694-da82-4920-c438-60e97fab3cde"
      },
      "source": [
        "ODI = pd.DataFrame({'match':match,\r\n",
        "                       'rating':rating,\r\n",
        "                       'point':point,})\r\n",
        "ODI.head()"
      ],
      "execution_count": 44,
      "outputs": [
        {
          "output_type": "execute_result",
          "data": {
            "text/html": [
              "<div>\n",
              "<style scoped>\n",
              "    .dataframe tbody tr th:only-of-type {\n",
              "        vertical-align: middle;\n",
              "    }\n",
              "\n",
              "    .dataframe tbody tr th {\n",
              "        vertical-align: top;\n",
              "    }\n",
              "\n",
              "    .dataframe thead th {\n",
              "        text-align: right;\n",
              "    }\n",
              "</style>\n",
              "<table border=\"1\" class=\"dataframe\">\n",
              "  <thead>\n",
              "    <tr style=\"text-align: right;\">\n",
              "      <th></th>\n",
              "      <th>match</th>\n",
              "      <th>rating</th>\n",
              "      <th>point</th>\n",
              "    </tr>\n",
              "  </thead>\n",
              "  <tbody>\n",
              "  </tbody>\n",
              "</table>\n",
              "</div>"
            ],
            "text/plain": [
              "Empty DataFrame\n",
              "Columns: [match, rating, point]\n",
              "Index: []"
            ]
          },
          "metadata": {
            "tags": []
          },
          "execution_count": 44
        }
      ]
    },
    {
      "cell_type": "code",
      "metadata": {
        "id": "fP-0BVWR8Y0x"
      },
      "source": [
        "#Top 10 ODI women player\r\n",
        "# Creating the lists we want to write into\r\n",
        "player= []\r\n",
        "team = []\r\n",
        "rating = []"
      ],
      "execution_count": 45,
      "outputs": []
    },
    {
      "cell_type": "code",
      "metadata": {
        "id": "5HKasuhQ8uOa"
      },
      "source": [
        "# Top 10 women’s ODI players along with the records of their team and rating.\r\n",
        "for page in pages:\r\n",
        "    # Getting the contents from the each url\r\n",
        "    page = requests.get('https://www.icc-cricket.com/' + str(page) + '&ref_=adv_nxt', headers=headers)\r\n",
        "    soup = BeautifulSoup(page.text, 'html.parser')\r\n",
        " \r\n",
        "# Aiming the part of the html we want to get the information from\r\n",
        "    ODI_div = soup.find_all('div', class_='lister-item mode-advanced')"
      ],
      "execution_count": 46,
      "outputs": []
    },
    {
      "cell_type": "code",
      "metadata": {
        "id": "nnU55aJE895z"
      },
      "source": [
        "for container in player:\r\n",
        "# TOP 10 ODI batsmen\r\n",
        "        player = container.h3.a.text\r\n",
        "        player.append(batsmen)\r\n",
        "\r\n",
        "# TOP 10 ODI team\r\n",
        "        team = container.h3.find('span', class_='lister-item-year').text\r\n",
        "        team.append(team)\r\n",
        " \r\n",
        "#TOP 10 ODI rating\r\n",
        "        rating= float(container.strong.text)\r\n",
        "        rating.append(rating)"
      ],
      "execution_count": 47,
      "outputs": []
    },
    {
      "cell_type": "code",
      "metadata": {
        "colab": {
          "base_uri": "https://localhost:8080/",
          "height": 49
        },
        "id": "eELyzqpI9Irf",
        "outputId": "339bedc8-fdbb-40e1-bb7f-9546a84916b9"
      },
      "source": [
        "ODI = pd.DataFrame({'player':match,\r\n",
        "                       'team':rating,\r\n",
        "                       'rating':point,})\r\n",
        "ODI.head()"
      ],
      "execution_count": 48,
      "outputs": [
        {
          "output_type": "execute_result",
          "data": {
            "text/html": [
              "<div>\n",
              "<style scoped>\n",
              "    .dataframe tbody tr th:only-of-type {\n",
              "        vertical-align: middle;\n",
              "    }\n",
              "\n",
              "    .dataframe tbody tr th {\n",
              "        vertical-align: top;\n",
              "    }\n",
              "\n",
              "    .dataframe thead th {\n",
              "        text-align: right;\n",
              "    }\n",
              "</style>\n",
              "<table border=\"1\" class=\"dataframe\">\n",
              "  <thead>\n",
              "    <tr style=\"text-align: right;\">\n",
              "      <th></th>\n",
              "      <th>player</th>\n",
              "      <th>team</th>\n",
              "      <th>rating</th>\n",
              "    </tr>\n",
              "  </thead>\n",
              "  <tbody>\n",
              "  </tbody>\n",
              "</table>\n",
              "</div>"
            ],
            "text/plain": [
              "Empty DataFrame\n",
              "Columns: [player, team, rating]\n",
              "Index: []"
            ]
          },
          "metadata": {
            "tags": []
          },
          "execution_count": 48
        }
      ]
    },
    {
      "cell_type": "code",
      "metadata": {
        "id": "MlVCTMsO9NFf"
      },
      "source": [
        "#Top 10 women’s ODI allrounder along with the records of their team and rating.\r\n",
        "# Creating the lists we want to write into\r\n",
        "allrounder= []\r\n",
        "team = []\r\n",
        "rating = []"
      ],
      "execution_count": 50,
      "outputs": []
    },
    {
      "cell_type": "code",
      "metadata": {
        "id": "W30bd9A39caj"
      },
      "source": [
        "#Top 10 women’s ODI allrounder along with the records of their team and rating.\r\n",
        "for page in pages:\r\n",
        "    # Getting the contents from the each url\r\n",
        "    page = requests.get('https://www.icc-cricket.com/' + str(page) + '&ref_=adv_nxt', headers=headers)\r\n",
        "    soup = BeautifulSoup(page.text, 'html.parser')\r\n",
        " \r\n",
        "# Aiming the part of the html we want to get the information from\r\n",
        "    ODI_div = soup.find_all('div', class_='lister-item mode-advanced')"
      ],
      "execution_count": 51,
      "outputs": []
    },
    {
      "cell_type": "code",
      "metadata": {
        "id": "Hr-uXnw49l0K"
      },
      "source": [
        "for container in allrounder:\r\n",
        "# TOP 10 ODI allrounder\r\n",
        "        allrounder = container.h3.a.text\r\n",
        "        allrounder.append(bowler)\r\n",
        "\r\n",
        "# TOP 10 ODI team\r\n",
        "        team = container.h3.find('span', class_='lister-item-year').text\r\n",
        "        team.append(team)\r\n",
        " \r\n",
        "#TOP 10 ODI rating\r\n",
        "        rating= float(container.strong.text)\r\n",
        "        rating.append(rating)"
      ],
      "execution_count": 52,
      "outputs": []
    },
    {
      "cell_type": "code",
      "metadata": {
        "colab": {
          "base_uri": "https://localhost:8080/",
          "height": 49
        },
        "id": "ZO5NLuLF9vCA",
        "outputId": "f2430408-2535-4267-afac-4a99ec0badaf"
      },
      "source": [
        "ODI = pd.DataFrame({'allrounder':match,\r\n",
        "                       'team':rating,\r\n",
        "                       'rating':point,})\r\n",
        "ODI.head()"
      ],
      "execution_count": 53,
      "outputs": [
        {
          "output_type": "execute_result",
          "data": {
            "text/html": [
              "<div>\n",
              "<style scoped>\n",
              "    .dataframe tbody tr th:only-of-type {\n",
              "        vertical-align: middle;\n",
              "    }\n",
              "\n",
              "    .dataframe tbody tr th {\n",
              "        vertical-align: top;\n",
              "    }\n",
              "\n",
              "    .dataframe thead th {\n",
              "        text-align: right;\n",
              "    }\n",
              "</style>\n",
              "<table border=\"1\" class=\"dataframe\">\n",
              "  <thead>\n",
              "    <tr style=\"text-align: right;\">\n",
              "      <th></th>\n",
              "      <th>allrounder</th>\n",
              "      <th>team</th>\n",
              "      <th>rating</th>\n",
              "    </tr>\n",
              "  </thead>\n",
              "  <tbody>\n",
              "  </tbody>\n",
              "</table>\n",
              "</div>"
            ],
            "text/plain": [
              "Empty DataFrame\n",
              "Columns: [allrounder, team, rating]\n",
              "Index: []"
            ]
          },
          "metadata": {
            "tags": []
          },
          "execution_count": 53
        }
      ]
    },
    {
      "cell_type": "code",
      "metadata": {
        "id": "ymKT4n1SG1qs"
      },
      "source": [
        "#mobile phones under Rs. 20,000 listed on Amazon.in.\r\n",
        "# Creating the lists we want to write into\r\n",
        "productname= []\r\n",
        "price = []\r\n",
        "imageURL = []\r\n",
        "averagerating = []\r\n"
      ],
      "execution_count": 64,
      "outputs": []
    },
    {
      "cell_type": "code",
      "metadata": {
        "id": "1gbIFqx7JMlF"
      },
      "source": [
        "#mobile phones under Rs. 20,000 listed on Amazon.in.\r\n",
        "for page in pages:\r\n",
        "    # Getting the contents from the each url\r\n",
        "    page = requests.get('https://www.google.com/aclk?sa=L&ai=DChcSEwiX6e2anpTuAhUi7-0KHVjWAUIYABAAGgJkZw&ae=2&sig=AOD64_2uIGIM-Us20nKZu4bKBJ_32D-9qQ&q&adurl&ved=2ahUKEwjQ7uKanpTuAhUHmhQKHSKbB58Q0Qx6BAgNEAE' + str(page) + '&ref_=adv_nxt', headers=headers)\r\n",
        "    soup = BeautifulSoup(page.text, 'html.parser')\r\n",
        " \r\n",
        "# Aiming the part of the html we want to get the information from\r\n",
        "    ODI_div = soup.find_all('div', class_='lister-item mode-advanced')"
      ],
      "execution_count": 65,
      "outputs": []
    },
    {
      "cell_type": "code",
      "metadata": {
        "id": "-_qdhkPwJgUV"
      },
      "source": [
        "for container in productname:\r\n",
        "# productname\r\n",
        "        productname = container.h3.a.text\r\n",
        "        productname.append(productname)\r\n",
        "\r\n",
        "#  price\r\n",
        "        price = container.h3.find('span', class_='lister-item-year').text\r\n",
        "        price.append(price)\r\n",
        " \r\n",
        "#imageURL\r\n",
        "        imageURL= float(container.strong.text)\r\n",
        "        imageURL.append(imageURL)\r\n",
        "\r\n",
        "#averagerating\r\n",
        "        averagerating= float(container.strong.text)\r\n",
        "        averagerating.append(averagerating)"
      ],
      "execution_count": 67,
      "outputs": []
    },
    {
      "cell_type": "code",
      "metadata": {
        "colab": {
          "base_uri": "https://localhost:8080/",
          "height": 49
        },
        "id": "YReEMndHKmA4",
        "outputId": "a2ac288f-ad8c-46f6-ebf8-c2673fd96cb7"
      },
      "source": [
        "amazon = pd.DataFrame({'productname':productname,\r\n",
        "                       'price':price,\r\n",
        "                       'imageURL':imageURL,\r\n",
        "                       'averagerating':averagerating,})\r\n",
        "amazon.head()"
      ],
      "execution_count": 68,
      "outputs": [
        {
          "output_type": "execute_result",
          "data": {
            "text/html": [
              "<div>\n",
              "<style scoped>\n",
              "    .dataframe tbody tr th:only-of-type {\n",
              "        vertical-align: middle;\n",
              "    }\n",
              "\n",
              "    .dataframe tbody tr th {\n",
              "        vertical-align: top;\n",
              "    }\n",
              "\n",
              "    .dataframe thead th {\n",
              "        text-align: right;\n",
              "    }\n",
              "</style>\n",
              "<table border=\"1\" class=\"dataframe\">\n",
              "  <thead>\n",
              "    <tr style=\"text-align: right;\">\n",
              "      <th></th>\n",
              "      <th>productname</th>\n",
              "      <th>price</th>\n",
              "      <th>imageURL</th>\n",
              "      <th>averagerating</th>\n",
              "    </tr>\n",
              "  </thead>\n",
              "  <tbody>\n",
              "  </tbody>\n",
              "</table>\n",
              "</div>"
            ],
            "text/plain": [
              "Empty DataFrame\n",
              "Columns: [productname, price, imageURL, averagerating]\n",
              "Index: []"
            ]
          },
          "metadata": {
            "tags": []
          },
          "execution_count": 68
        }
      ]
    },
    {
      "cell_type": "code",
      "metadata": {
        "id": "2hSlLuVFLROH"
      },
      "source": [
        "#National Weather Service \r\n",
        "# Creating the lists we want to write into\r\n",
        "period= []\r\n",
        "shortdescription = []\r\n",
        "temperature = []\r\n",
        "description = []"
      ],
      "execution_count": 70,
      "outputs": []
    },
    {
      "cell_type": "code",
      "metadata": {
        "id": "TzYTQgtKPhXI"
      },
      "source": [
        "#National Weather Service\r\n",
        "for page in pages:\r\n",
        "    # Getting the contents from the each url\r\n",
        "    page = requests.get('https://www.weather.gov/' + str(page) + '&ref_=adv_nxt', headers=headers)\r\n",
        "    soup = BeautifulSoup(page.text, 'html.parser')\r\n",
        " \r\n",
        "# Aiming the part of the html we want to get the information from\r\n",
        "    ODI_div = soup.find_all('div', class_='lister-item mode-advanced')"
      ],
      "execution_count": 71,
      "outputs": []
    },
    {
      "cell_type": "code",
      "metadata": {
        "id": "eXRqUpoXP7B7"
      },
      "source": [
        "for container in period:\r\n",
        "# period\r\n",
        "        period = container.h3.a.text\r\n",
        "        period.append(period)\r\n",
        "\r\n",
        "#  short description\r\n",
        "        shortdescription = container.h3.find('span', class_='lister-item-year').text\r\n",
        "        shortdescription.append(shortdescription)\r\n",
        " \r\n",
        "#temperature\r\n",
        "        temperature= float(container.strong.text)\r\n",
        "        temperature.append(temperature)\r\n",
        "\r\n",
        "#description\r\n",
        "        description= float(container.strong.text)\r\n",
        "        description.append(description)"
      ],
      "execution_count": 72,
      "outputs": []
    },
    {
      "cell_type": "code",
      "metadata": {
        "colab": {
          "base_uri": "https://localhost:8080/",
          "height": 49
        },
        "id": "sNyxbihxShcL",
        "outputId": "6d68c415-b268-4042-f93c-9d860738b630"
      },
      "source": [
        "NationalWeatherService = pd.DataFrame({'period':period,\r\n",
        "                       'shortdescription':shortdescription,\r\n",
        "                       'temperature':temperature,\r\n",
        "                       'description':description,})\r\n",
        "NationalWeatherService.head()"
      ],
      "execution_count": 74,
      "outputs": [
        {
          "output_type": "execute_result",
          "data": {
            "text/html": [
              "<div>\n",
              "<style scoped>\n",
              "    .dataframe tbody tr th:only-of-type {\n",
              "        vertical-align: middle;\n",
              "    }\n",
              "\n",
              "    .dataframe tbody tr th {\n",
              "        vertical-align: top;\n",
              "    }\n",
              "\n",
              "    .dataframe thead th {\n",
              "        text-align: right;\n",
              "    }\n",
              "</style>\n",
              "<table border=\"1\" class=\"dataframe\">\n",
              "  <thead>\n",
              "    <tr style=\"text-align: right;\">\n",
              "      <th></th>\n",
              "      <th>period</th>\n",
              "      <th>shortdescription</th>\n",
              "      <th>temperature</th>\n",
              "      <th>description</th>\n",
              "    </tr>\n",
              "  </thead>\n",
              "  <tbody>\n",
              "  </tbody>\n",
              "</table>\n",
              "</div>"
            ],
            "text/plain": [
              "Empty DataFrame\n",
              "Columns: [period, shortdescription, temperature, description]\n",
              "Index: []"
            ]
          },
          "metadata": {
            "tags": []
          },
          "execution_count": 74
        }
      ]
    },
    {
      "cell_type": "code",
      "metadata": {
        "id": "ReK-9_V1SxIM"
      },
      "source": [
        ""
      ],
      "execution_count": null,
      "outputs": []
    }
  ]
}